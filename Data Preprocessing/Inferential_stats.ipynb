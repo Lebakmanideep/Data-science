{
 "cells": [
  {
   "cell_type": "code",
   "execution_count": null,
   "metadata": {},
   "outputs": [],
   "source": [
    "import pandas as pd\n",
    "import numpy as np\n",
    "import matplotlib.pyplot as plt\n",
    "\n",
    "df = pd.read_excel(r\"C:/Users/lebak/OneDrive/Desktop/Aispry/Data Pre Processing/Data Preprocessing_Assignments/Inferential_stats.xlsx\")\n",
    "\n",
    "df.mean()\n",
    "df.median()\n",
    "df.mode()\n",
    "variance=df['Measure_X'].var()\n",
    "stddev=variance**0.5\n",
    "\n",
    "\n",
    "plt.boxplot(df.Measure_X) # has one outlier\n",
    "\n",
    "#detection of outlier\n",
    "IQR=df.Measure_X.quantile(0.75)-df.Measure_X.quantile(0.25)\n",
    "lower_limit=df.Measure_X.quantile(0.25)-(IQR*1.5)\n",
    "upper_limit=df.Measure_X.quantile(0.75)+(IQR*1.5)\n",
    "outliers_Measure_X=np.where(df.Measure_X>upper_limit,True,np.where(df.Measure_X<lower_limit,True,False))\n",
    "#shows Morgan stanley is the outlier\n"
   ]
  },
  {
   "cell_type": "code",
   "execution_count": null,
   "metadata": {},
   "outputs": [],
   "source": []
  }
 ],
 "metadata": {
  "kernelspec": {
   "display_name": "Python 3",
   "language": "python",
   "name": "python3"
  },
  "language_info": {
   "codemirror_mode": {
    "name": "ipython",
    "version": 3
   },
   "file_extension": ".py",
   "mimetype": "text/x-python",
   "name": "python",
   "nbconvert_exporter": "python",
   "pygments_lexer": "ipython3",
   "version": "3.8.3"
  }
 },
 "nbformat": 4,
 "nbformat_minor": 4
}
